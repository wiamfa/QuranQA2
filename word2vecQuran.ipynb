{
  "nbformat": 4,
  "nbformat_minor": 0,
  "metadata": {
    "colab": {
      "name": "word2vecQuran.ipynb",
      "provenance": []
    },
    "kernelspec": {
      "name": "python3",
      "display_name": "Python 3"
    },
    "language_info": {
      "name": "python"
    }
  },
  "cells": [
    {
      "cell_type": "code",
      "execution_count": null,
      "metadata": {
        "id": "jSPep66md02S"
      },
      "outputs": [],
      "source": [
        "!pip install gensim spacy nltk"
      ]
    },
    {
      "cell_type": "markdown",
      "source": [
        "quran embedding"
      ],
      "metadata": {
        "id": "KukCddwodr0v"
      }
    },
    {
      "cell_type": "code",
      "source": [
        "import gensim"
      ],
      "metadata": {
        "id": "-g8cOvz2dqxJ"
      },
      "execution_count": null,
      "outputs": []
    },
    {
      "cell_type": "code",
      "execution_count": null,
      "metadata": {
        "id": "X58WQ4G3xyT3"
      },
      "outputs": [],
      "source": [
        "filename=\"/content/quran.txt\"\n",
        "with open(filename,'r') as file:\n",
        "    sentences = file.read().splitlines()"
      ]
    },
    {
      "cell_type": "code",
      "source": [
        "import nltk\n",
        "nltk.download('punkt')\n",
        "newsVec = [nltk.word_tokenize(sentence) for sentence in sentences]\n",
        "model = gensim.models.Word2Vec (newsVec, window=2)\n"
      ],
      "metadata": {
        "colab": {
          "base_uri": "https://localhost:8080/"
        },
        "id": "p6v3t5jHbdIz",
        "outputId": "2bc3e69f-4a5a-48b5-969d-7aa67b228ff3"
      },
      "execution_count": null,
      "outputs": [
        {
          "output_type": "stream",
          "name": "stdout",
          "text": [
            "[nltk_data] Downloading package punkt to /root/nltk_data...\n",
            "[nltk_data]   Unzipping tokenizers/punkt.zip.\n"
          ]
        }
      ]
    },
    {
      "cell_type": "code",
      "source": [
        "# get the shape of embedding matrix    \n",
        "print(model.wv.vectors.shape)\n",
        "\n",
        "\n",
        "# `vocabulary_size` is just the number of rows (i.e. axis 0)\n",
        "vocabulary_size=model.wv.vectors.shape[0]\n",
        "print(vocabulary_size)"
      ],
      "metadata": {
        "colab": {
          "base_uri": "https://localhost:8080/"
        },
        "id": "Wc_5Qs3YcG4V",
        "outputId": "00decf3d-fe5c-4364-fc9e-e2d0aed73b4f"
      },
      "execution_count": null,
      "outputs": [
        {
          "output_type": "stream",
          "name": "stdout",
          "text": [
            "(2078, 100)\n",
            "2078\n"
          ]
        }
      ]
    },
    {
      "cell_type": "code",
      "source": [
        "model.wv.get_vector(\"اللٰه\")"
      ],
      "metadata": {
        "colab": {
          "base_uri": "https://localhost:8080/"
        },
        "id": "nsmapgWpM62G",
        "outputId": "99df9b38-1cd2-4100-b779-0f7a53f19f66"
      },
      "execution_count": null,
      "outputs": [
        {
          "output_type": "execute_result",
          "data": {
            "text/plain": [
              "array([-0.36951712,  0.12054729,  0.25183845, -0.2811082 , -0.04155207,\n",
              "       -0.6057505 , -0.03224473,  0.24643792, -0.14341924,  0.6508036 ,\n",
              "       -0.15282243,  0.21033143,  0.57349813, -0.00706583,  0.13055335,\n",
              "        0.19649175,  0.48146182,  0.39861423,  0.42724794,  0.334091  ,\n",
              "        0.00784625,  0.22743583, -0.41140616, -0.2812729 ,  0.07723665,\n",
              "       -0.5032373 ,  0.32841846, -0.25766665, -0.55357414, -0.22148769,\n",
              "       -0.27420014,  0.29164773,  0.06488726, -0.37800696, -0.10230882,\n",
              "       -0.56782645,  0.20214766,  0.30402488,  0.09081954,  0.19026525,\n",
              "        0.15759043, -0.04093066, -0.4157081 ,  0.35918182, -0.14690699,\n",
              "        0.07184222, -0.4058987 ,  0.22512206, -0.35431373, -0.00322699,\n",
              "        0.09571265, -0.10312261, -0.23303811,  0.24752977,  0.22911067,\n",
              "       -0.36692393, -0.04748408, -0.29718548,  0.03548957, -0.06168376,\n",
              "       -0.03135207, -0.00872039,  0.04154463, -0.3518754 ,  0.4232072 ,\n",
              "        0.24140336,  0.10514397,  0.04064565, -0.6680091 ,  0.11974758,\n",
              "        0.0819425 ,  0.30600113,  0.45421645,  0.26889005, -0.12505746,\n",
              "       -0.8161188 ,  0.3544389 ,  0.05303753, -0.2054885 , -0.63150185,\n",
              "        0.21785277,  0.2082451 ,  0.27441877,  0.12097173, -0.22088926,\n",
              "       -0.2421459 ,  0.11255685, -0.26541844,  0.50621855, -0.10041567,\n",
              "        0.3465517 ,  0.08510625,  0.0501797 , -0.27176318,  0.19907063,\n",
              "        0.5758191 ,  0.49284855, -0.00998274,  0.13083433, -0.09781708],\n",
              "      dtype=float32)"
            ]
          },
          "metadata": {},
          "execution_count": 6
        }
      ]
    },
    {
      "cell_type": "code",
      "source": [
        "model.most_similar('اللٰه',topn=10)"
      ],
      "metadata": {
        "colab": {
          "base_uri": "https://localhost:8080/"
        },
        "id": "vXzH4uyNNLnL",
        "outputId": "87c43b86-f602-4454-b2fb-dc5a7605aa7c"
      },
      "execution_count": null,
      "outputs": [
        {
          "output_type": "stream",
          "name": "stderr",
          "text": [
            "/usr/local/lib/python3.7/dist-packages/ipykernel_launcher.py:1: DeprecationWarning: Call to deprecated `most_similar` (Method will be removed in 4.0.0, use self.wv.most_similar() instead).\n",
            "  \"\"\"Entry point for launching an IPython kernel.\n"
          ]
        },
        {
          "output_type": "execute_result",
          "data": {
            "text/plain": [
              "[('الغفور', 0.9972605109214783),\n",
              " ('التواب', 0.9964636564254761),\n",
              " ('بالغیب', 0.9917985200881958),\n",
              " ('اذن', 0.9912793636322021),\n",
              " ('اتخذ', 0.991237461566925),\n",
              " ('الرحیمۙ', 0.9912190437316895),\n",
              " ('البصر', 0.9912047982215881),\n",
              " ('یملكون', 0.991167426109314),\n",
              " ('یرید', 0.9910735487937927),\n",
              " ('دون', 0.9909119606018066)]"
            ]
          },
          "metadata": {},
          "execution_count": 7
        }
      ]
    }
  ]
}